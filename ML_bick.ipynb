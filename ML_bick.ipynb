{
 "cells": [
  {
   "cell_type": "code",
   "execution_count": 1,
   "metadata": {},
   "outputs": [],
   "source": [
    "import pandas as pd\n",
    "import numpy as np\n",
    "import torch\n",
    "import seaborn as sns\n",
    "from sklearn.model_selection import train_test_split"
   ]
  },
  {
   "cell_type": "code",
   "execution_count": 2,
   "metadata": {},
   "outputs": [],
   "source": [
    "train = pd.read_csv('train_processed.csv',parse_dates=['datetime'], index_col='datetime')\n",
    "test = pd.read_csv('test_processed.csv', parse_dates=['datetime'], index_col='datetime')"
   ]
  },
  {
   "cell_type": "code",
   "execution_count": 3,
   "metadata": {},
   "outputs": [],
   "source": [
    "X = train.drop(['count'], axis=1).values\n",
    "y = train['count'].values\n",
    "X_train, X_val, y_train, y_val = train_test_split(X, y, test_size=0.2, random_state=42)"
   ]
  },
  {
   "cell_type": "code",
   "execution_count": 4,
   "metadata": {},
   "outputs": [],
   "source": [
    "X_train = torch.tensor(X_train, dtype=torch.float)\n",
    "X_val = torch.tensor(X_val, dtype=torch.float)\n",
    "y_train = torch.tensor(y_train, dtype=torch.float)\n",
    "y_val = torch.tensor(y_val, dtype=torch.float)"
   ]
  },
  {
   "cell_type": "code",
   "execution_count": 5,
   "metadata": {},
   "outputs": [],
   "source": [
    "class Net(torch.nn.Module):\n",
    "    def __init__(self, n_feature, n_hidden, n_output):\n",
    "        super(Net, self).__init__()\n",
    "        self.hidden = torch.nn.Linear(n_feature, n_hidden)\n",
    "        self.output = torch.nn.Linear(n_hidden, n_output)\n",
    "\n",
    "    def forward(self, x):\n",
    "        x = torch.relu(self.hidden(x))\n",
    "        x = self.output(x)\n",
    "        return x.squeeze()\n",
    "\n",
    "n_feature, n_hidden, n_output = len(X_train[0]), 32, 1\n",
    "\n",
    "net = Net(n_feature, n_hidden, n_output)"
   ]
  },
  {
   "cell_type": "code",
   "execution_count": 6,
   "metadata": {},
   "outputs": [],
   "source": [
    "# 優化器\n",
    "criterion = torch.nn.MSELoss()\n",
    "optimizer = torch.optim.Adam(net.parameters(), lr = 0.01)"
   ]
  },
  {
   "cell_type": "code",
   "execution_count": 7,
   "metadata": {},
   "outputs": [
    {
     "name": "stdout",
     "output_type": "stream",
     "text": [
      "Epoch 10, Training loss: 25384.4375, Validation loss: 23721.55859375\n",
      "Epoch 20, Training loss: 15927.6875, Validation loss: 15098.435546875\n",
      "Epoch 30, Training loss: 7477.853515625, Validation loss: 7007.41845703125\n",
      "Epoch 40, Training loss: 1627.1676025390625, Validation loss: 1225.90478515625\n",
      "Epoch 50, Training loss: 136.18792724609375, Validation loss: 220.12596130371094\n",
      "Epoch 60, Training loss: 364.6963195800781, Validation loss: 363.91497802734375\n",
      "Epoch 70, Training loss: 87.2016830444336, Validation loss: 79.11560821533203\n",
      "Epoch 80, Training loss: 42.82836151123047, Validation loss: 54.38473892211914\n",
      "Epoch 90, Training loss: 42.56136703491211, Validation loss: 47.56053161621094\n",
      "Epoch 100, Training loss: 22.874711990356445, Validation loss: 27.316774368286133\n"
     ]
    }
   ],
   "source": [
    "for epoch in range(100):\n",
    "    optimizer.zero_grad()\n",
    "    y_pred = net(X_train)\n",
    "    loss = criterion(y_pred, y_train)\n",
    "    loss.backward()\n",
    "    optimizer.step()\n",
    "\n",
    "    # Print the loss every 10 epochs\n",
    "    if (epoch+1) % 10 == 0:\n",
    "        with torch.no_grad():\n",
    "            y_val_pred = net(X_val)\n",
    "            val_loss = criterion(y_val_pred, y_val)\n",
    "            print(f'Epoch {epoch+1}, Training loss: {loss.item()}, Validation loss: {val_loss.item()}')\n",
    "    else:\n",
    "        pass"
   ]
  },
  {
   "attachments": {},
   "cell_type": "markdown",
   "metadata": {},
   "source": [
    "\n",
    "TODO : 做test的預測和提交kaggle"
   ]
  },
  {
   "attachments": {},
   "cell_type": "markdown",
   "metadata": {},
   "source": [
    "> https://towardsdatascience.com/how-to-organize-your-data-science-project-dd6599cf000a"
   ]
  }
 ],
 "metadata": {
  "kernelspec": {
   "display_name": "env",
   "language": "python",
   "name": "python3"
  },
  "language_info": {
   "codemirror_mode": {
    "name": "ipython",
    "version": 3
   },
   "file_extension": ".py",
   "mimetype": "text/x-python",
   "name": "python",
   "nbconvert_exporter": "python",
   "pygments_lexer": "ipython3",
   "version": "3.10.9"
  },
  "orig_nbformat": 4,
  "vscode": {
   "interpreter": {
    "hash": "0a41995d720027615c0eff66e1b809f7ead8c643a92f31572c511da1282807a9"
   }
  }
 },
 "nbformat": 4,
 "nbformat_minor": 2
}
