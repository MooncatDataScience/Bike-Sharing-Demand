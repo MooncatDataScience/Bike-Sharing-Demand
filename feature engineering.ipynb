{
 "cells": [
  {
   "cell_type": "code",
   "execution_count": 1,
   "metadata": {},
   "outputs": [],
   "source": [
    "import pandas as pd\n",
    "import numpy as np\n",
    "import matplotlib.pyplot as plt\n",
    "import seaborn as sns\n",
    "\n",
    "train = pd.read_csv('train.csv')\n",
    "test = pd.read_csv('test.csv')"
   ]
  },
  {
   "cell_type": "code",
   "execution_count": 2,
   "metadata": {},
   "outputs": [],
   "source": [
    "train['datetime'] = pd.to_datetime(train['datetime'])\n",
    "train['year'] = train['datetime'].dt.year\n",
    "train['month'] = train['datetime'].dt.month\n",
    "train['hour'] = train['datetime'].dt.hour\n",
    "train['dayofweek'] = train['datetime'].dt.dayofweek\n",
    "\n",
    "test['datetime'] = pd.to_datetime(test['datetime'])\n",
    "test['year'] = test['datetime'].dt.year\n",
    "test['month'] = test['datetime'].dt.month\n",
    "test['hour'] = test['datetime'].dt.hour\n",
    "test['dayofweek'] = test['datetime'].dt.dayofweek\n"
   ]
  },
  {
   "cell_type": "code",
   "execution_count": 3,
   "metadata": {},
   "outputs": [],
   "source": [
    "categorical_features = ['season', 'holiday', 'workingday', 'weather']\n",
    "\n",
    "for feature in categorical_features:\n",
    "    train[feature] = train[feature].astype('category')\n",
    "    test[feature] = test[feature].astype('category')\n",
    "\n",
    "train = pd.get_dummies(train, columns=categorical_features) # train one hot\n",
    "test = pd.get_dummies(test, columns=categorical_features) # test one hot"
   ]
  },
  {
   "cell_type": "code",
   "execution_count": 4,
   "metadata": {},
   "outputs": [],
   "source": [
    "# 特徵縮放\n",
    "from sklearn.preprocessing import StandardScaler\n",
    "\n",
    "numeric_features = ['temp', 'atemp', 'humidity', 'windspeed']\n",
    "\n",
    "scaler = StandardScaler()\n",
    "train[numeric_features] = scaler.fit_transform(train[numeric_features])\n",
    "test[numeric_features] = scaler.transform(test[numeric_features])"
   ]
  },
  {
   "cell_type": "code",
   "execution_count": 5,
   "metadata": {},
   "outputs": [],
   "source": [
    "# 特徵交叉\n",
    "train['year_month'] = (train['year'] - 2011)*12 + train['month']\n",
    "test['year_month'] = (test['year'] - 2011) * 12 + test['month']"
   ]
  },
  {
   "cell_type": "code",
   "execution_count": 7,
   "metadata": {},
   "outputs": [
    {
     "name": "stderr",
     "output_type": "stream",
     "text": [
      "C:\\Users\\Takodachi\\AppData\\Local\\Temp\\ipykernel_8656\\3918388778.py:2: FutureWarning: The default value of numeric_only in DataFrame.corr is deprecated. In a future version, it will default to False. Select only valid columns or specify the value of numeric_only to silence this warning.\n",
      "  corrlations = train.corr()\n"
     ]
    },
    {
     "data": {
      "text/plain": [
       "count           1.000000\n",
       "registered      0.970948\n",
       "casual          0.690414\n",
       "hour            0.400601\n",
       "temp            0.394454\n",
       "atemp           0.389784\n",
       "year_month      0.309570\n",
       "year            0.260403\n",
       "month           0.166862\n",
       "season_3        0.136942\n",
       "weather_1       0.105246\n",
       "windspeed       0.101369\n",
       "season_2        0.075681\n",
       "season_4        0.023704\n",
       "workingday_1    0.011594\n",
       "holiday_0       0.005393\n",
       "weather_4      -0.001459\n",
       "dayofweek      -0.002283\n",
       "holiday_1      -0.005393\n",
       "workingday_0   -0.011594\n",
       "weather_2      -0.041329\n",
       "weather_3      -0.117519\n",
       "season_1       -0.237704\n",
       "humidity       -0.317371\n",
       "Name: count, dtype: float64"
      ]
     },
     "execution_count": 7,
     "metadata": {},
     "output_type": "execute_result"
    }
   ],
   "source": [
    "# 選擇特徵\n",
    "corrlations = train.corr()\n",
    "corrlations['count'].sort_values(ascending=False)"
   ]
  },
  {
   "cell_type": "code",
   "execution_count": null,
   "metadata": {},
   "outputs": [],
   "source": [
    "train.to_csv('train_processed.csv', index=False)\n",
    "test.to_csv('test_processed.csv', index=False)"
   ]
  }
 ],
 "metadata": {
  "kernelspec": {
   "display_name": "env",
   "language": "python",
   "name": "python3"
  },
  "language_info": {
   "codemirror_mode": {
    "name": "ipython",
    "version": 3
   },
   "file_extension": ".py",
   "mimetype": "text/x-python",
   "name": "python",
   "nbconvert_exporter": "python",
   "pygments_lexer": "ipython3",
   "version": "3.10.9"
  },
  "orig_nbformat": 4,
  "vscode": {
   "interpreter": {
    "hash": "0a41995d720027615c0eff66e1b809f7ead8c643a92f31572c511da1282807a9"
   }
  }
 },
 "nbformat": 4,
 "nbformat_minor": 2
}
